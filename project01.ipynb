{
 "cells": [
  {
   "attachments": {},
   "cell_type": "markdown",
   "metadata": {},
   "source": [
    "***\n",
    "# Speed Dating Partner Prediction\n",
    "\n",
    "Authors: Erinn Shu Han Lee, Lukáš Mikšovský\n",
    "\n",
    "## Introduction\n",
    "For our Python project, we have chosen [this dataset](https://www.kaggle.com/datasets/ulrikthygepedersen/speed-dating?resource=download) from the Kaggle website. It includes data from an experimental speed dating project that between 2002 and 2004.\n",
    "\n",
    "Our goal is to predict whether two individuals on a speed date will match at the end of the round of speed dating.\n",
    "***"
   ]
  },
  {
   "attachments": {},
   "cell_type": "markdown",
   "metadata": {},
   "source": [
    "## Preliminary Data Analysis"
   ]
  },
  {
   "cell_type": "code",
   "execution_count": 738,
   "metadata": {},
   "outputs": [],
   "source": [
    "# Import preliminary modules\n",
    "import pandas as pd\n",
    "\n",
    "import seaborn as sns\n",
    "import numpy as np\n",
    "from scipy.stats import norm, stats\n",
    "\n",
    "import warnings\n",
    "warnings.filterwarnings('ignore')\n",
    "random_seed = 123\n",
    "\n",
    "# For reproducibility\n",
    "np.random.seed(random_seed)"
   ]
  },
  {
   "cell_type": "code",
   "execution_count": 739,
   "metadata": {},
   "outputs": [
    {
     "name": "stdout",
     "output_type": "stream",
     "text": [
      "Dataset size:  (8378, 123)\n",
      "<class 'pandas.core.frame.DataFrame'>\n",
      "RangeIndex: 8378 entries, 0 to 8377\n",
      "Columns: 123 entries, has_null to match\n",
      "dtypes: float64(59), object(64)\n",
      "memory usage: 7.9+ MB\n"
     ]
    }
   ],
   "source": [
    "# Load data\n",
    "df = pd.read_csv(\"speeddating.csv\")\n",
    "print('Dataset size: ', df.shape)\n",
    "df.info()"
   ]
  },
  {
   "attachments": {},
   "cell_type": "markdown",
   "metadata": {},
   "source": [
    "There are 122 independent variables in the dataset.\n",
    "\n",
    "Slightly less than half (59 columns are float64) are numeric data and the rest (64 columns are object(string)) are categorical data.\n",
    "\n",
    "The numeric data consists of each participants' rating of their date for the following qualitative attributes:\n",
    "1. Attractiveness\n",
    "2. Sincerity\n",
    "3. Intelligence\n",
    "4. Fun\n",
    "6. Ambition\n",
    "6. Shared Interests (e.g., sports, museums, clubbing, etc.)\n",
    "\n",
    "The categorical data gathered from the participants through a questionnaire to understand their background better are as follows:\n",
    "1. Demographics\n",
    "2. Dating habits\n",
    "3. Self-perception across key attributes\n",
    "4. Beliefs on what others find valuable in a mate\n",
    "5. Lifestyle information\n",
    "\n",
    "The raw data for both numeric and categorical data can be seen in the following table:"
   ]
  },
  {
   "cell_type": "code",
   "execution_count": 740,
   "metadata": {},
   "outputs": [
    {
     "data": {
      "text/html": [
       "<div>\n",
       "<style scoped>\n",
       "    .dataframe tbody tr th:only-of-type {\n",
       "        vertical-align: middle;\n",
       "    }\n",
       "\n",
       "    .dataframe tbody tr th {\n",
       "        vertical-align: top;\n",
       "    }\n",
       "\n",
       "    .dataframe thead th {\n",
       "        text-align: right;\n",
       "    }\n",
       "</style>\n",
       "<table border=\"1\" class=\"dataframe\">\n",
       "  <thead>\n",
       "    <tr style=\"text-align: right;\">\n",
       "      <th></th>\n",
       "      <th>wave</th>\n",
       "      <th>age</th>\n",
       "      <th>age_o</th>\n",
       "      <th>d_age</th>\n",
       "      <th>importance_same_race</th>\n",
       "      <th>importance_same_religion</th>\n",
       "      <th>pref_o_attractive</th>\n",
       "      <th>pref_o_sincere</th>\n",
       "      <th>pref_o_intelligence</th>\n",
       "      <th>pref_o_funny</th>\n",
       "      <th>...</th>\n",
       "      <th>music</th>\n",
       "      <th>shopping</th>\n",
       "      <th>yoga</th>\n",
       "      <th>interests_correlate</th>\n",
       "      <th>expected_happy_with_sd_people</th>\n",
       "      <th>expected_num_interested_in_me</th>\n",
       "      <th>expected_num_matches</th>\n",
       "      <th>like</th>\n",
       "      <th>guess_prob_liked</th>\n",
       "      <th>met</th>\n",
       "    </tr>\n",
       "  </thead>\n",
       "  <tbody>\n",
       "    <tr>\n",
       "      <th>count</th>\n",
       "      <td>8378.000000</td>\n",
       "      <td>8283.000000</td>\n",
       "      <td>8274.000000</td>\n",
       "      <td>8378.000000</td>\n",
       "      <td>8299.000000</td>\n",
       "      <td>8299.000000</td>\n",
       "      <td>8289.000000</td>\n",
       "      <td>8289.000000</td>\n",
       "      <td>8289.000000</td>\n",
       "      <td>8280.000000</td>\n",
       "      <td>...</td>\n",
       "      <td>8299.000000</td>\n",
       "      <td>8299.000000</td>\n",
       "      <td>8299.000000</td>\n",
       "      <td>8220.000000</td>\n",
       "      <td>8277.000000</td>\n",
       "      <td>1800.000000</td>\n",
       "      <td>7205.000000</td>\n",
       "      <td>8138.000000</td>\n",
       "      <td>8069.000000</td>\n",
       "      <td>8003.000000</td>\n",
       "    </tr>\n",
       "    <tr>\n",
       "      <th>mean</th>\n",
       "      <td>11.350919</td>\n",
       "      <td>26.358928</td>\n",
       "      <td>26.364999</td>\n",
       "      <td>4.185605</td>\n",
       "      <td>3.784793</td>\n",
       "      <td>3.651645</td>\n",
       "      <td>22.495347</td>\n",
       "      <td>17.396867</td>\n",
       "      <td>20.270759</td>\n",
       "      <td>17.459714</td>\n",
       "      <td>...</td>\n",
       "      <td>7.851066</td>\n",
       "      <td>5.631281</td>\n",
       "      <td>4.339197</td>\n",
       "      <td>0.196010</td>\n",
       "      <td>5.534131</td>\n",
       "      <td>5.570556</td>\n",
       "      <td>3.207814</td>\n",
       "      <td>6.134087</td>\n",
       "      <td>5.207523</td>\n",
       "      <td>0.049856</td>\n",
       "    </tr>\n",
       "    <tr>\n",
       "      <th>std</th>\n",
       "      <td>5.995903</td>\n",
       "      <td>3.566763</td>\n",
       "      <td>3.563648</td>\n",
       "      <td>4.596171</td>\n",
       "      <td>2.845708</td>\n",
       "      <td>2.805237</td>\n",
       "      <td>12.569802</td>\n",
       "      <td>7.044003</td>\n",
       "      <td>6.782895</td>\n",
       "      <td>6.085526</td>\n",
       "      <td>...</td>\n",
       "      <td>1.791827</td>\n",
       "      <td>2.608913</td>\n",
       "      <td>2.717612</td>\n",
       "      <td>0.303539</td>\n",
       "      <td>1.734059</td>\n",
       "      <td>4.762569</td>\n",
       "      <td>2.444813</td>\n",
       "      <td>1.841285</td>\n",
       "      <td>2.129565</td>\n",
       "      <td>0.282168</td>\n",
       "    </tr>\n",
       "    <tr>\n",
       "      <th>min</th>\n",
       "      <td>1.000000</td>\n",
       "      <td>18.000000</td>\n",
       "      <td>18.000000</td>\n",
       "      <td>0.000000</td>\n",
       "      <td>0.000000</td>\n",
       "      <td>1.000000</td>\n",
       "      <td>0.000000</td>\n",
       "      <td>0.000000</td>\n",
       "      <td>0.000000</td>\n",
       "      <td>0.000000</td>\n",
       "      <td>...</td>\n",
       "      <td>1.000000</td>\n",
       "      <td>1.000000</td>\n",
       "      <td>0.000000</td>\n",
       "      <td>-0.830000</td>\n",
       "      <td>1.000000</td>\n",
       "      <td>0.000000</td>\n",
       "      <td>0.000000</td>\n",
       "      <td>0.000000</td>\n",
       "      <td>0.000000</td>\n",
       "      <td>0.000000</td>\n",
       "    </tr>\n",
       "    <tr>\n",
       "      <th>25%</th>\n",
       "      <td>7.000000</td>\n",
       "      <td>24.000000</td>\n",
       "      <td>24.000000</td>\n",
       "      <td>1.000000</td>\n",
       "      <td>1.000000</td>\n",
       "      <td>1.000000</td>\n",
       "      <td>15.000000</td>\n",
       "      <td>15.000000</td>\n",
       "      <td>17.390000</td>\n",
       "      <td>15.000000</td>\n",
       "      <td>...</td>\n",
       "      <td>7.000000</td>\n",
       "      <td>4.000000</td>\n",
       "      <td>2.000000</td>\n",
       "      <td>-0.020000</td>\n",
       "      <td>5.000000</td>\n",
       "      <td>2.000000</td>\n",
       "      <td>2.000000</td>\n",
       "      <td>5.000000</td>\n",
       "      <td>4.000000</td>\n",
       "      <td>0.000000</td>\n",
       "    </tr>\n",
       "    <tr>\n",
       "      <th>50%</th>\n",
       "      <td>11.000000</td>\n",
       "      <td>26.000000</td>\n",
       "      <td>26.000000</td>\n",
       "      <td>3.000000</td>\n",
       "      <td>3.000000</td>\n",
       "      <td>3.000000</td>\n",
       "      <td>20.000000</td>\n",
       "      <td>18.370000</td>\n",
       "      <td>20.000000</td>\n",
       "      <td>18.000000</td>\n",
       "      <td>...</td>\n",
       "      <td>8.000000</td>\n",
       "      <td>6.000000</td>\n",
       "      <td>4.000000</td>\n",
       "      <td>0.210000</td>\n",
       "      <td>6.000000</td>\n",
       "      <td>4.000000</td>\n",
       "      <td>3.000000</td>\n",
       "      <td>6.000000</td>\n",
       "      <td>5.000000</td>\n",
       "      <td>0.000000</td>\n",
       "    </tr>\n",
       "    <tr>\n",
       "      <th>75%</th>\n",
       "      <td>15.000000</td>\n",
       "      <td>28.000000</td>\n",
       "      <td>28.000000</td>\n",
       "      <td>5.000000</td>\n",
       "      <td>6.000000</td>\n",
       "      <td>6.000000</td>\n",
       "      <td>25.000000</td>\n",
       "      <td>20.000000</td>\n",
       "      <td>23.810000</td>\n",
       "      <td>20.000000</td>\n",
       "      <td>...</td>\n",
       "      <td>9.000000</td>\n",
       "      <td>8.000000</td>\n",
       "      <td>7.000000</td>\n",
       "      <td>0.430000</td>\n",
       "      <td>7.000000</td>\n",
       "      <td>8.000000</td>\n",
       "      <td>4.000000</td>\n",
       "      <td>7.000000</td>\n",
       "      <td>7.000000</td>\n",
       "      <td>0.000000</td>\n",
       "    </tr>\n",
       "    <tr>\n",
       "      <th>max</th>\n",
       "      <td>21.000000</td>\n",
       "      <td>55.000000</td>\n",
       "      <td>55.000000</td>\n",
       "      <td>37.000000</td>\n",
       "      <td>10.000000</td>\n",
       "      <td>10.000000</td>\n",
       "      <td>100.000000</td>\n",
       "      <td>60.000000</td>\n",
       "      <td>50.000000</td>\n",
       "      <td>50.000000</td>\n",
       "      <td>...</td>\n",
       "      <td>10.000000</td>\n",
       "      <td>10.000000</td>\n",
       "      <td>10.000000</td>\n",
       "      <td>0.910000</td>\n",
       "      <td>10.000000</td>\n",
       "      <td>20.000000</td>\n",
       "      <td>18.000000</td>\n",
       "      <td>10.000000</td>\n",
       "      <td>10.000000</td>\n",
       "      <td>8.000000</td>\n",
       "    </tr>\n",
       "  </tbody>\n",
       "</table>\n",
       "<p>8 rows × 59 columns</p>\n",
       "</div>"
      ],
      "text/plain": [
       "              wave          age        age_o        d_age  \\\n",
       "count  8378.000000  8283.000000  8274.000000  8378.000000   \n",
       "mean     11.350919    26.358928    26.364999     4.185605   \n",
       "std       5.995903     3.566763     3.563648     4.596171   \n",
       "min       1.000000    18.000000    18.000000     0.000000   \n",
       "25%       7.000000    24.000000    24.000000     1.000000   \n",
       "50%      11.000000    26.000000    26.000000     3.000000   \n",
       "75%      15.000000    28.000000    28.000000     5.000000   \n",
       "max      21.000000    55.000000    55.000000    37.000000   \n",
       "\n",
       "       importance_same_race  importance_same_religion  pref_o_attractive  \\\n",
       "count           8299.000000               8299.000000        8289.000000   \n",
       "mean               3.784793                  3.651645          22.495347   \n",
       "std                2.845708                  2.805237          12.569802   \n",
       "min                0.000000                  1.000000           0.000000   \n",
       "25%                1.000000                  1.000000          15.000000   \n",
       "50%                3.000000                  3.000000          20.000000   \n",
       "75%                6.000000                  6.000000          25.000000   \n",
       "max               10.000000                 10.000000         100.000000   \n",
       "\n",
       "       pref_o_sincere  pref_o_intelligence  pref_o_funny  ...        music  \\\n",
       "count     8289.000000          8289.000000   8280.000000  ...  8299.000000   \n",
       "mean        17.396867            20.270759     17.459714  ...     7.851066   \n",
       "std          7.044003             6.782895      6.085526  ...     1.791827   \n",
       "min          0.000000             0.000000      0.000000  ...     1.000000   \n",
       "25%         15.000000            17.390000     15.000000  ...     7.000000   \n",
       "50%         18.370000            20.000000     18.000000  ...     8.000000   \n",
       "75%         20.000000            23.810000     20.000000  ...     9.000000   \n",
       "max         60.000000            50.000000     50.000000  ...    10.000000   \n",
       "\n",
       "          shopping         yoga  interests_correlate  \\\n",
       "count  8299.000000  8299.000000          8220.000000   \n",
       "mean      5.631281     4.339197             0.196010   \n",
       "std       2.608913     2.717612             0.303539   \n",
       "min       1.000000     0.000000            -0.830000   \n",
       "25%       4.000000     2.000000            -0.020000   \n",
       "50%       6.000000     4.000000             0.210000   \n",
       "75%       8.000000     7.000000             0.430000   \n",
       "max      10.000000    10.000000             0.910000   \n",
       "\n",
       "       expected_happy_with_sd_people  expected_num_interested_in_me  \\\n",
       "count                    8277.000000                    1800.000000   \n",
       "mean                        5.534131                       5.570556   \n",
       "std                         1.734059                       4.762569   \n",
       "min                         1.000000                       0.000000   \n",
       "25%                         5.000000                       2.000000   \n",
       "50%                         6.000000                       4.000000   \n",
       "75%                         7.000000                       8.000000   \n",
       "max                        10.000000                      20.000000   \n",
       "\n",
       "       expected_num_matches         like  guess_prob_liked          met  \n",
       "count           7205.000000  8138.000000       8069.000000  8003.000000  \n",
       "mean               3.207814     6.134087          5.207523     0.049856  \n",
       "std                2.444813     1.841285          2.129565     0.282168  \n",
       "min                0.000000     0.000000          0.000000     0.000000  \n",
       "25%                2.000000     5.000000          4.000000     0.000000  \n",
       "50%                3.000000     6.000000          5.000000     0.000000  \n",
       "75%                4.000000     7.000000          7.000000     0.000000  \n",
       "max               18.000000    10.000000         10.000000     8.000000  \n",
       "\n",
       "[8 rows x 59 columns]"
      ]
     },
     "execution_count": 740,
     "metadata": {},
     "output_type": "execute_result"
    }
   ],
   "source": [
    "# Check data statistics\n",
    "df.describe()"
   ]
  },
  {
   "attachments": {},
   "cell_type": "markdown",
   "metadata": {},
   "source": [
    "Next, we plotted a bar chart to show how each category contributes to the dataset as a whole. It also helps us identify trends and patterns in the data in a simple way."
   ]
  },
  {
   "cell_type": "code",
   "execution_count": 741,
   "metadata": {},
   "outputs": [
    {
     "data": {
      "image/png": "[encoded data removed]",
      "text/plain": [
       "<Figure size 640x480 with 1 Axes>"
      ]
     },
     "metadata": {},
     "output_type": "display_data"
    }
   ],
   "source": [
    "import matplotlib.pyplot as plt\n",
    "\n",
    "plt.figure()\n",
    "ax = sns.countplot(x='match', data=df, palette='RdBu')\n",
    "\n",
    "for i in ax.containers:\n",
    "    ax.bar_label(i,)\n",
    "\n",
    "plt.xticks([0,1], ['No', 'Yes'])\n",
    "\n",
    "plt.show()"
   ]
  },
  {
   "attachments": {},
   "cell_type": "markdown",
   "metadata": {},
   "source": [
    "However, as seen in the plot, most of the dates were unfortunately not matches. For instance, the short date was not a success 6998 times. Matches between two participants only occurred 1380 times.\n",
    "\n",
    "This means that our dataset is skewed towards the target of 0=\"no\". We have to keep this in mind when we evaluate the confusion matrix in the later section."
   ]
  },
  {
   "cell_type": "code",
   "execution_count": 742,
   "metadata": {},
   "outputs": [
    {
     "data": {
      "text/plain": [
       "<function matplotlib.pyplot.show(close=None, block=None)>"
      ]
     },
     "execution_count": 742,
     "metadata": {},
     "output_type": "execute_result"
    },
    {
     "data": {
      "image/png": "[encoded data removed]",
      "text/plain": [
       "<Figure size 640x480 with 1 Axes>"
      ]
     },
     "metadata": {},
     "output_type": "display_data"
    }
   ],
   "source": [
    "plt.figure()\n",
    "plt.hist(x= \"age\", data= df, bins=20)\n",
    "plt.title(\"Age distribution in dataset\")\n",
    "plt.xticks(np.arange(20,55, step=5))\n",
    "plt.xlabel(\"Age\")\n",
    "plt.ylabel(\"Number of participants of said age\")\n",
    "plt.show"
   ]
  },
  {
   "attachments": {},
   "cell_type": "markdown",
   "metadata": {},
   "source": [
    "We've also added above a histogram to give you a better understanding of the age distribution in the dataset. "
   ]
  },
  {
   "attachments": {},
   "cell_type": "markdown",
   "metadata": {},
   "source": [
    "## Data Preprocessing"
   ]
  },
  {
   "attachments": {},
   "cell_type": "markdown",
   "metadata": {},
   "source": [
    "Now, we will focus on cleaning the data to get the data ready for machine learning analysis. It will help to improve the accuracy and quality of these models and reduce dimensionality.\n",
    "\n",
    "First, it is important to ensure that our dataset is complete."
   ]
  },
  {
   "cell_type": "code",
   "execution_count": 743,
   "metadata": {},
   "outputs": [
    {
     "name": "stdout",
     "output_type": "stream",
     "text": [
      "has_null                0\n",
      "wave                    0\n",
      "gender                  0\n",
      "age                    95\n",
      "age_o                 104\n",
      "                     ... \n",
      "d_guess_prob_liked      0\n",
      "met                   375\n",
      "decision                0\n",
      "decision_o              0\n",
      "match                   0\n",
      "Length: 123, dtype: int64\n"
     ]
    }
   ],
   "source": [
    "print(df.isnull().sum())"
   ]
  },
  {
   "attachments": {},
   "cell_type": "markdown",
   "metadata": {},
   "source": [
    "From the above, we identified some missing data. Missing data will lead to biased or skewed interpretations of the data if left as it is. Hence, we will be imputing these missing values to help maintain the consistency and integrity of data for further processing, analysis, and modeling."
   ]
  },
  {
   "cell_type": "code",
   "execution_count": 744,
   "metadata": {},
   "outputs": [
    {
     "name": "stdout",
     "output_type": "stream",
     "text": [
      "has_null              0\n",
      "wave                  0\n",
      "gender                0\n",
      "age                   0\n",
      "age_o                 0\n",
      "                     ..\n",
      "d_guess_prob_liked    0\n",
      "met                   0\n",
      "decision              0\n",
      "decision_o            0\n",
      "match                 0\n",
      "Length: 123, dtype: int64\n"
     ]
    }
   ],
   "source": [
    "for i in df.columns[df.isnull().any(axis=0)]:\n",
    "    df[i].fillna(df[i].mean(),inplace=True)\n",
    "\n",
    "# Re-check if there are any missing data after imputing\n",
    "print(df.isnull().sum())"
   ]
  },
  {
   "attachments": {},
   "cell_type": "markdown",
   "metadata": {},
   "source": [
    "Next, to utilize machine learning algorithms and statistical techniques in the later sections, we will first convert the categorical and textual data into numeric data. This will help the algorithm to use the data and extract insights from it. The conversion process will recognize patterns, relationships, and similarities in the data.\n",
    "\n",
    "For this dataset, we will use ordinal encoder. The encoder will assign a unique integer value to each category based on their order or rank in the hierarchy. It ensures that the order of the data is maintained and enable the algorithm to understand the relative relationships between the different categories."
   ]
  },
  {
   "cell_type": "code",
   "execution_count": 745,
   "metadata": {},
   "outputs": [
    {
     "name": "stdout",
     "output_type": "stream",
     "text": [
      "<class 'pandas.core.frame.DataFrame'>\n",
      "RangeIndex: 8378 entries, 0 to 8377\n",
      "Columns: 123 entries, has_null to match\n",
      "dtypes: float64(123)\n",
      "memory usage: 7.9 MB\n"
     ]
    },
    {
     "data": {
      "text/html": [
       "<div>\n",
       "<style scoped>\n",
       "    .dataframe tbody tr th:only-of-type {\n",
       "        vertical-align: middle;\n",
       "    }\n",
       "\n",
       "    .dataframe tbody tr th {\n",
       "        vertical-align: top;\n",
       "    }\n",
       "\n",
       "    .dataframe thead th {\n",
       "        text-align: right;\n",
       "    }\n",
       "</style>\n",
       "<table border=\"1\" class=\"dataframe\">\n",
       "  <thead>\n",
       "    <tr style=\"text-align: right;\">\n",
       "      <th></th>\n",
       "      <th>has_null</th>\n",
       "      <th>wave</th>\n",
       "      <th>gender</th>\n",
       "      <th>age</th>\n",
       "      <th>age_o</th>\n",
       "      <th>d_age</th>\n",
       "      <th>d_d_age</th>\n",
       "      <th>race</th>\n",
       "      <th>race_o</th>\n",
       "      <th>samerace</th>\n",
       "      <th>...</th>\n",
       "      <th>d_expected_num_interested_in_me</th>\n",
       "      <th>d_expected_num_matches</th>\n",
       "      <th>like</th>\n",
       "      <th>guess_prob_liked</th>\n",
       "      <th>d_like</th>\n",
       "      <th>d_guess_prob_liked</th>\n",
       "      <th>met</th>\n",
       "      <th>decision</th>\n",
       "      <th>decision_o</th>\n",
       "      <th>match</th>\n",
       "    </tr>\n",
       "  </thead>\n",
       "  <tbody>\n",
       "    <tr>\n",
       "      <th>0</th>\n",
       "      <td>0.0</td>\n",
       "      <td>1.0</td>\n",
       "      <td>0.0</td>\n",
       "      <td>21.0</td>\n",
       "      <td>27.0</td>\n",
       "      <td>6.0</td>\n",
       "      <td>2.0</td>\n",
       "      <td>1.0</td>\n",
       "      <td>3.0</td>\n",
       "      <td>0.0</td>\n",
       "      <td>...</td>\n",
       "      <td>0.0</td>\n",
       "      <td>1.0</td>\n",
       "      <td>7.0</td>\n",
       "      <td>6.000000</td>\n",
       "      <td>1.0</td>\n",
       "      <td>1.0</td>\n",
       "      <td>0.0</td>\n",
       "      <td>1.0</td>\n",
       "      <td>0.0</td>\n",
       "      <td>0.0</td>\n",
       "    </tr>\n",
       "    <tr>\n",
       "      <th>1</th>\n",
       "      <td>0.0</td>\n",
       "      <td>1.0</td>\n",
       "      <td>0.0</td>\n",
       "      <td>21.0</td>\n",
       "      <td>22.0</td>\n",
       "      <td>1.0</td>\n",
       "      <td>0.0</td>\n",
       "      <td>1.0</td>\n",
       "      <td>3.0</td>\n",
       "      <td>0.0</td>\n",
       "      <td>...</td>\n",
       "      <td>0.0</td>\n",
       "      <td>1.0</td>\n",
       "      <td>7.0</td>\n",
       "      <td>5.000000</td>\n",
       "      <td>1.0</td>\n",
       "      <td>1.0</td>\n",
       "      <td>1.0</td>\n",
       "      <td>1.0</td>\n",
       "      <td>0.0</td>\n",
       "      <td>0.0</td>\n",
       "    </tr>\n",
       "    <tr>\n",
       "      <th>2</th>\n",
       "      <td>0.0</td>\n",
       "      <td>1.0</td>\n",
       "      <td>0.0</td>\n",
       "      <td>21.0</td>\n",
       "      <td>22.0</td>\n",
       "      <td>1.0</td>\n",
       "      <td>0.0</td>\n",
       "      <td>1.0</td>\n",
       "      <td>1.0</td>\n",
       "      <td>1.0</td>\n",
       "      <td>...</td>\n",
       "      <td>0.0</td>\n",
       "      <td>1.0</td>\n",
       "      <td>7.0</td>\n",
       "      <td>5.207523</td>\n",
       "      <td>1.0</td>\n",
       "      <td>0.0</td>\n",
       "      <td>1.0</td>\n",
       "      <td>1.0</td>\n",
       "      <td>1.0</td>\n",
       "      <td>1.0</td>\n",
       "    </tr>\n",
       "    <tr>\n",
       "      <th>3</th>\n",
       "      <td>0.0</td>\n",
       "      <td>1.0</td>\n",
       "      <td>0.0</td>\n",
       "      <td>21.0</td>\n",
       "      <td>23.0</td>\n",
       "      <td>2.0</td>\n",
       "      <td>1.0</td>\n",
       "      <td>1.0</td>\n",
       "      <td>3.0</td>\n",
       "      <td>0.0</td>\n",
       "      <td>...</td>\n",
       "      <td>0.0</td>\n",
       "      <td>1.0</td>\n",
       "      <td>7.0</td>\n",
       "      <td>6.000000</td>\n",
       "      <td>1.0</td>\n",
       "      <td>1.0</td>\n",
       "      <td>0.0</td>\n",
       "      <td>1.0</td>\n",
       "      <td>1.0</td>\n",
       "      <td>1.0</td>\n",
       "    </tr>\n",
       "    <tr>\n",
       "      <th>4</th>\n",
       "      <td>0.0</td>\n",
       "      <td>1.0</td>\n",
       "      <td>0.0</td>\n",
       "      <td>21.0</td>\n",
       "      <td>24.0</td>\n",
       "      <td>3.0</td>\n",
       "      <td>1.0</td>\n",
       "      <td>1.0</td>\n",
       "      <td>4.0</td>\n",
       "      <td>0.0</td>\n",
       "      <td>...</td>\n",
       "      <td>0.0</td>\n",
       "      <td>1.0</td>\n",
       "      <td>6.0</td>\n",
       "      <td>6.000000</td>\n",
       "      <td>1.0</td>\n",
       "      <td>1.0</td>\n",
       "      <td>0.0</td>\n",
       "      <td>1.0</td>\n",
       "      <td>1.0</td>\n",
       "      <td>1.0</td>\n",
       "    </tr>\n",
       "  </tbody>\n",
       "</table>\n",
       "<p>5 rows × 123 columns</p>\n",
       "</div>"
      ],
      "text/plain": [
       "   has_null  wave  gender   age  age_o  d_age  d_d_age  race  race_o  \\\n",
       "0       0.0   1.0     0.0  21.0   27.0    6.0      2.0   1.0     3.0   \n",
       "1       0.0   1.0     0.0  21.0   22.0    1.0      0.0   1.0     3.0   \n",
       "2       0.0   1.0     0.0  21.0   22.0    1.0      0.0   1.0     1.0   \n",
       "3       0.0   1.0     0.0  21.0   23.0    2.0      1.0   1.0     3.0   \n",
       "4       0.0   1.0     0.0  21.0   24.0    3.0      1.0   1.0     4.0   \n",
       "\n",
       "   samerace  ...  d_expected_num_interested_in_me  d_expected_num_matches  \\\n",
       "0       0.0  ...                              0.0                     1.0   \n",
       "1       0.0  ...                              0.0                     1.0   \n",
       "2       1.0  ...                              0.0                     1.0   \n",
       "3       0.0  ...                              0.0                     1.0   \n",
       "4       0.0  ...                              0.0                     1.0   \n",
       "\n",
       "   like  guess_prob_liked  d_like  d_guess_prob_liked  met  decision  \\\n",
       "0   7.0          6.000000     1.0                 1.0  0.0       1.0   \n",
       "1   7.0          5.000000     1.0                 1.0  1.0       1.0   \n",
       "2   7.0          5.207523     1.0                 0.0  1.0       1.0   \n",
       "3   7.0          6.000000     1.0                 1.0  0.0       1.0   \n",
       "4   6.0          6.000000     1.0                 1.0  0.0       1.0   \n",
       "\n",
       "   decision_o  match  \n",
       "0         0.0    0.0  \n",
       "1         0.0    0.0  \n",
       "2         1.0    1.0  \n",
       "3         1.0    1.0  \n",
       "4         1.0    1.0  \n",
       "\n",
       "[5 rows x 123 columns]"
      ]
     },
     "execution_count": 745,
     "metadata": {},
     "output_type": "execute_result"
    }
   ],
   "source": [
    "from sklearn.preprocessing import OrdinalEncoder\n",
    "for col in df.columns:\n",
    "    if df[col].dtype == \"object\":\n",
    "        oe = OrdinalEncoder()\n",
    "        oe.fit(df[[col]])\n",
    "        df[col] = oe.fit_transform(df[[col]])\n",
    "        \n",
    "df.info()\n",
    "df.head()"
   ]
  },
  {
   "attachments": {},
   "cell_type": "markdown",
   "metadata": {},
   "source": [
    "## Model Building - Logistic Regression"
   ]
  },
  {
   "cell_type": "code",
   "execution_count": 746,
   "metadata": {},
   "outputs": [],
   "source": [
    "# Initialize data\n",
    "X = df.drop(['match', 'decision', 'decision_o'], axis=1)\n",
    "y = df['match']"
   ]
  },
  {
   "attachments": {},
   "cell_type": "markdown",
   "metadata": {},
   "source": [
    "First we need to split the dataset into a dataframe without the target and a series with just the target. We call those X and y and use them later for the train_test_split. We also removed columns decision and decision_o since these two columns are the decisions of the two participants that make up the final match outcome. If we included these two variables the models would be nearly perfect because if decion = 1 and decision_o = 1 the match would also equal to 1. "
   ]
  },
  {
   "cell_type": "code",
   "execution_count": 747,
   "metadata": {},
   "outputs": [
    {
     "data": {
      "text/plain": [
       "((6702, 120), (6702,), (1676, 120), (1676,))"
      ]
     },
     "execution_count": 747,
     "metadata": {},
     "output_type": "execute_result"
    }
   ],
   "source": [
    "# Split dataset into training and test\n",
    "from sklearn.model_selection import train_test_split\n",
    "X_train, X_test, y_train, y_test = train_test_split(X, y, test_size=0.2, random_state=random_seed)\n",
    "X_train.shape, y_train.shape, X_test.shape, y_test.shape"
   ]
  },
  {
   "attachments": {},
   "cell_type": "markdown",
   "metadata": {},
   "source": [
    "For our data, we we have decided to utilize logistic regression as the outcome variable is categorical (\"yes\" or \"no\") and the input variables contain both numeric and categorical data.\n",
    "\n",
    "It is important to note that logistic regression assumes a linear relationship between the input variables and the log-odds of the outcome variable. Hence, it is sensitive to outliers and multicollinearity. With the prior data preprocessing and transformiation, we believe this model will be able to best predict the probability of two individuals matching at the end of the round of speed dating."
   ]
  },
  {
   "cell_type": "code",
   "execution_count": 748,
   "metadata": {},
   "outputs": [
    {
     "data": {
      "text/plain": [
       "0.8490453460620525"
      ]
     },
     "execution_count": 748,
     "metadata": {},
     "output_type": "execute_result"
    }
   ],
   "source": [
    "from sklearn.linear_model import LogisticRegression\n",
    "\n",
    "# Instantiate classifier\n",
    "logreg = LogisticRegression()\n",
    "\n",
    "# Fit logreg into the training data\n",
    "logreg.fit(X_train, y_train)\n",
    "\n",
    "# Predict on the test data\n",
    "log_pred = logreg.predict(X_test)\n",
    "\n",
    "# Evaluate accuracy of the model\n",
    "logreg.score(X_test, y_test)"
   ]
  },
  {
   "attachments": {},
   "cell_type": "markdown",
   "metadata": {},
   "source": [
    "The above accuracy score of 0.96897 (rounded to 5 decimal places) indicates a close to perfect classification accuracy, as 0 indicates complete misclassification and 1 indiccates perfect classification."
   ]
  },
  {
   "attachments": {},
   "cell_type": "markdown",
   "metadata": {},
   "source": [
    "## Metaparameter Tuning - Logistic Regression"
   ]
  },
  {
   "attachments": {},
   "cell_type": "markdown",
   "metadata": {},
   "source": [
    "To systematically search through the range of hyperparameters to find the best combination of values to optimize the logistic regression model performance, we perform GridSearchCV.\n",
    "\n",
    "GridSearchCV results in higher accuracy on the test set and ensures that the model is not overfitting to the training set and is generalizing well to new, unseen data."
   ]
  },
  {
   "cell_type": "code",
   "execution_count": 749,
   "metadata": {},
   "outputs": [
    {
     "name": "stdout",
     "output_type": "stream",
     "text": [
      "{'C': 0.01, 'penalty': 'l2'}\n",
      "0.855564125680323\n"
     ]
    }
   ],
   "source": [
    "from sklearn.model_selection import GridSearchCV\n",
    "\n",
    "# Specify the hyperparameter as a dictionary\n",
    "param_grid = {'C': np.logspace(-4, 4, 5), \"penalty\": [\"l1\", \"l2\"]}\n",
    "\n",
    "# Create grid search\n",
    "logreg_cv = GridSearchCV(logreg, param_grid, cv=5)\n",
    "\n",
    "# Performs the actual grid search inplace\n",
    "logreg_cv.fit(X_train, y_train)\n",
    "log_cv_pred = logreg_cv.predict(X_test)\n",
    "\n",
    "# Returns the hyperparameter that performs the best\n",
    "print(logreg_cv.best_params_)\n",
    "\n",
    "# Returns the mean cross-validation score over that fold\n",
    "print(logreg_cv.best_score_)"
   ]
  },
  {
   "attachments": {},
   "cell_type": "markdown",
   "metadata": {},
   "source": [
    "<insert explanation on the results>"
   ]
  },
  {
   "attachments": {},
   "cell_type": "markdown",
   "metadata": {},
   "source": [
    "## Model Evaluation - Logistic Regression"
   ]
  },
  {
   "attachments": {},
   "cell_type": "markdown",
   "metadata": {},
   "source": [
    "To evaluate the performance of the logistic regression classifier, we will use a Receiving Operating Characteristic (ROC) curve by plotting the true positive rate (TPR) against the false positive rate (FPR) at various threshold settings."
   ]
  },
  {
   "cell_type": "code",
   "execution_count": 750,
   "metadata": {},
   "outputs": [
    {
     "data": {
      "image/png": "[encoded data removed]",
      "text/plain": [
       "<Figure size 640x480 with 1 Axes>"
      ]
     },
     "metadata": {},
     "output_type": "display_data"
    }
   ],
   "source": [
    "from sklearn.metrics import roc_curve\n",
    "\n",
    "# Compute predicted probabilities from logreg before using a threshold to predict the label\n",
    "y_pred_prob_logreg_cv = logreg_cv.predict_proba(X_test)[:,1]\n",
    "            \n",
    "fpr, tpr, thresholds = roc_curve(y_test, y_pred_prob_logreg_cv)\n",
    "plt.plot([0,1],[0,1],'k--')\n",
    "plt.plot(fpr, tpr, label='Logistic Regression')\n",
    "plt.xlabel('False Positive Rate')\n",
    "plt.ylabel('True Positive Rate')\n",
    "plt.title('Logistic Regression ROC Curve')\n",
    "plt.show()"
   ]
  },
  {
   "attachments": {},
   "cell_type": "markdown",
   "metadata": {},
   "source": [
    "From the above ROC curve, it is noted that the curve is close to the top left corner of the plot, which corresponds to high TPR and low FPR. Hence, we can say that the model is able to distinguish between the positive and negative classes well across all possible threshold values.\n",
    "\n",
    "To further illustrate this metric, we use the Area under the ROC curve (AUC) to evaluate the model performance."
   ]
  },
  {
   "cell_type": "code",
   "execution_count": 763,
   "metadata": {},
   "outputs": [
    {
     "name": "stdout",
     "output_type": "stream",
     "text": [
      "0.8493150684931506\n",
      "[0.83715839 0.83395186 0.8261853  0.85277268 0.83851302]\n"
     ]
    }
   ],
   "source": [
    "from sklearn.metrics import roc_auc_score\n",
    "\n",
    "# Compute AUC score\n",
    "print(roc_auc_score(y_test, y_pred_prob_logreg_cv))\n",
    "\n",
    "# Compute cross-validated AUC scores\n",
    "from sklearn.model_selection import cross_val_score\n",
    "cv_auc = cross_val_score(logreg_cv.best_estimator_, X, y, cv=5, scoring='roc_auc')\n",
    "print(cv_auc)"
   ]
  },
  {
   "attachments": {},
   "cell_type": "markdown",
   "metadata": {},
   "source": [
    "Since the AUC score is close to 1, it indicates a good performance."
   ]
  },
  {
   "attachments": {},
   "cell_type": "markdown",
   "metadata": {},
   "source": [
    "## Model Building - Random Forest"
   ]
  },
  {
   "attachments": {},
   "cell_type": "markdown",
   "metadata": {},
   "source": [
    "For comparison, we will build a Random Forest classification model to contrast it with the Logistic Regression classification model.\n",
    "\n",
    "Random Forest is a tree-based model where multiple decision trees are trained on random subsets of data and their outputs are combined to make predictions."
   ]
  },
  {
   "cell_type": "code",
   "execution_count": 752,
   "metadata": {},
   "outputs": [
    {
     "name": "stdout",
     "output_type": "stream",
     "text": [
      "0.8556085918854416\n"
     ]
    }
   ],
   "source": [
    "from sklearn.ensemble import RandomForestClassifier\n",
    "from sklearn.metrics import accuracy_score\n",
    "\n",
    "# Initialize the random forest model with 100 trees\n",
    "rf = RandomForestClassifier(n_estimators=100, random_state=random_seed)\n",
    "\n",
    "# Fit the model to the training data\n",
    "rf.fit(X_train, y_train)\n",
    "\n",
    "# Make predictions on the test data\n",
    "forest_pred = rf.predict(X_test)\n",
    "\n",
    "# Evaluate the accuracy of the model\n",
    "accuracy = accuracy_score(y_test, forest_pred)\n",
    "print(accuracy)\n",
    "\n",
    "#confusion matrix"
   ]
  },
  {
   "attachments": {},
   "cell_type": "markdown",
   "metadata": {},
   "source": [
    "The accuracy of our Random Forest model (0.8556) is slightly better than of Logistic Regression (0.8490). To make the model better we will once again perform Metaparameter tuning. "
   ]
  },
  {
   "attachments": {},
   "cell_type": "markdown",
   "metadata": {},
   "source": [
    "<insert explanation on the results>"
   ]
  },
  {
   "attachments": {},
   "cell_type": "markdown",
   "metadata": {},
   "source": [
    "## Metaparameter Tuning - Random Forest"
   ]
  },
  {
   "attachments": {},
   "cell_type": "markdown",
   "metadata": {},
   "source": [
    "Similar to the logistic regression classification, we will use GridSearchCv to find the best hyperparameters for the Random Forest Model. We will be tuning max_depth and criterion parameters. "
   ]
  },
  {
   "cell_type": "code",
   "execution_count": 753,
   "metadata": {},
   "outputs": [
    {
     "name": "stdout",
     "output_type": "stream",
     "text": [
      "{'criterion': 'entropy', 'max_depth': 15} RandomForestClassifier(criterion='entropy', max_depth=15, random_state=123) 0.863622714169644\n"
     ]
    }
   ],
   "source": [
    "from sklearn.model_selection import GridSearchCV\n",
    "\n",
    "# Define parameters\n",
    "parameters = {\"max_depth\": [5, 10, 15], \"criterion\": [\"gini\", \"entropy\", \"log_los\"]}\n",
    "\n",
    "# Create grid search\n",
    "forest_cv = GridSearchCV(rf, parameters, cv=5)\n",
    "forest_cv.fit(X_train, y_train)\n",
    "forest_cv_pred = forest_cv.predict(X_test)\n",
    "# Get best parameters\n",
    "forest_cv.best_params_\n",
    "\n",
    "# Get best model\n",
    "forest_cv.best_estimator_\n",
    "\n",
    "# Get best score\n",
    "forest_cv.best_score_\n",
    "\n",
    "print(forest_cv.best_params_,\n",
    "      forest_cv.best_estimator_,\n",
    "      forest_cv.best_score_)"
   ]
  },
  {
   "attachments": {},
   "cell_type": "markdown",
   "metadata": {},
   "source": [
    "We can conclude from the results that the best parameters for our use of Random forest model are Criterion set to entropy and max_depth on 15. This configuration yielded a score of 0.8636 which is better compared to the base of 0.8556. "
   ]
  },
  {
   "attachments": {},
   "cell_type": "markdown",
   "metadata": {},
   "source": [
    "<insert explanation on the results>"
   ]
  },
  {
   "attachments": {},
   "cell_type": "markdown",
   "metadata": {},
   "source": [
    "## Model Evaluation - Random Forest"
   ]
  },
  {
   "attachments": {},
   "cell_type": "markdown",
   "metadata": {},
   "source": [
    "To evaluate the performance of the Random Forest classifier to be compared to that of the Logistic Regression Classifier, we will also plot the ROC curve at various threshold settings."
   ]
  },
  {
   "cell_type": "code",
   "execution_count": 754,
   "metadata": {},
   "outputs": [
    {
     "data": {
      "image/png": "[encoded data removed]",
      "text/plain": [
       "<Figure size 640x480 with 1 Axes>"
      ]
     },
     "metadata": {},
     "output_type": "display_data"
    }
   ],
   "source": [
    "# Compute predicted probabilities from random forest after Cross Validation\n",
    "y_pred_prob_rf_cv = forest_cv.predict_proba(X_test)[:,1]\n",
    "            \n",
    "fpr, tpr, thresholds = roc_curve(y_test, y_pred_prob_rf_cv)\n",
    "plt.plot([0,1],[0,1],'k--')\n",
    "plt.plot(fpr, tpr, label='Logistic Regression')\n",
    "plt.xlabel('False Positive Rate')\n",
    "plt.ylabel('True Positive Rate')\n",
    "plt.title('Random forest ROC Curve')\n",
    "plt.show()"
   ]
  },
  {
   "attachments": {},
   "cell_type": "markdown",
   "metadata": {},
   "source": [
    "Next up we'll compute AUC and cross-validated AUC scores."
   ]
  },
  {
   "cell_type": "code",
   "execution_count": 762,
   "metadata": {},
   "outputs": [
    {
     "name": "stdout",
     "output_type": "stream",
     "text": [
      "0.8611276734282499\n",
      "[0.8420471  0.83134187 0.84255305 0.84639908 0.84336638]\n"
     ]
    }
   ],
   "source": [
    "# Compute AUC score for tuned Random forest\n",
    "print(roc_auc_score(y_test, y_pred_prob_rf_cv))\n",
    "\n",
    "# Compute cross-validated AUC scores\n",
    "from sklearn.model_selection import cross_val_score\n",
    "cv_auc = cross_val_score(forest_cv.best_estimator_, X, y, cv=5, scoring='roc_auc')\n",
    "print(cv_auc)"
   ]
  },
  {
   "attachments": {},
   "cell_type": "markdown",
   "metadata": {},
   "source": [
    "Once again a higher AUC score indicates a better model. A score of 0.8611 indicates that the model has a capacity to predict the target variable well. With the values being 0.8611 the model has a chance of 86.11 % to distinguish between a True and False (1,0) class"
   ]
  },
  {
   "attachments": {},
   "cell_type": "markdown",
   "metadata": {},
   "source": [
    "## Model Comparison"
   ]
  },
  {
   "attachments": {},
   "cell_type": "markdown",
   "metadata": {},
   "source": [
    "To evaluate the performance of the above two classification models, we will create a confusion matrix for both models and also their tuned instances (post GridSearchCV) to compare the actual values of the target variable with the predicted values in the model. This will quantify the accuracy of a classification model.\n",
    "\n",
    "Here, the confusion matrix contains four values: true positives (TP), false positives (FP), true negatives (TN), and false negatives (FN)."
   ]
  },
  {
   "cell_type": "code",
   "execution_count": 756,
   "metadata": {},
   "outputs": [],
   "source": [
    "from sklearn.metrics import classification_report\n",
    "from sklearn.metrics import confusion_matrix\n",
    "from sklearn.metrics import ConfusionMatrixDisplay\n",
    "from sklearn import metrics"
   ]
  },
  {
   "cell_type": "code",
   "execution_count": 764,
   "metadata": {},
   "outputs": [
    {
     "name": "stdout",
     "output_type": "stream",
     "text": [
      "              precision    recall  f1-score   support\n",
      "\n",
      "         0.0       0.87      0.96      0.91      1387\n",
      "         1.0       0.62      0.33      0.43       289\n",
      "\n",
      "    accuracy                           0.85      1676\n",
      "   macro avg       0.74      0.64      0.67      1676\n",
      "weighted avg       0.83      0.85      0.83      1676\n",
      "\n"
     ]
    },
    {
     "data": {
      "image/png": "[encoded data removed]",
      "text/plain": [
       "<Figure size 640x480 with 2 Axes>"
      ]
     },
     "metadata": {},
     "output_type": "display_data"
    }
   ],
   "source": [
    "# Confusion Matrix for Logistic Regression\n",
    "print(classification_report(y_test, log_pred))\n",
    "cm_logreg = confusion_matrix(y_test, log_pred)\n",
    "cm_display = metrics.ConfusionMatrixDisplay(confusion_matrix = cm_logreg, display_labels = [False, True])\n",
    "cm_display.plot()\n",
    "plt.title(\"Confusion Matrix for base Logistic regression model\")\n",
    "plt.show()"
   ]
  },
  {
   "attachments": {},
   "cell_type": "markdown",
   "metadata": {},
   "source": [
    "Here we can see the classification report and plotted confusion matrix of the base Logistic regression model. It has an accuracy of 0.85 Which means the model is right 85 times out of 100. We can also see that the model scewes towards predicting False, based on the amount of false negatives. "
   ]
  },
  {
   "cell_type": "code",
   "execution_count": 765,
   "metadata": {},
   "outputs": [
    {
     "name": "stdout",
     "output_type": "stream",
     "text": [
      "              precision    recall  f1-score   support\n",
      "\n",
      "         0.0       0.87      0.96      0.92      1387\n",
      "         1.0       0.66      0.33      0.44       289\n",
      "\n",
      "    accuracy                           0.85      1676\n",
      "   macro avg       0.77      0.64      0.68      1676\n",
      "weighted avg       0.84      0.85      0.83      1676\n",
      "\n"
     ]
    },
    {
     "data": {
      "image/png": "[encoded data removed]",
      "text/plain": [
       "<Figure size 640x480 with 2 Axes>"
      ]
     },
     "metadata": {},
     "output_type": "display_data"
    }
   ],
   "source": [
    "#Confusion matrix for Logistic Regression after metaparameter tuning\n",
    "print(classification_report(y_test, log_cv_pred))\n",
    "cm_logreg_cv = confusion_matrix(y_test, log_cv_pred)\n",
    "cm_display = metrics.ConfusionMatrixDisplay(confusion_matrix = cm_logreg_cv, display_labels = [False, True])\n",
    "cm_display.plot()\n",
    "plt.title(\"Confusion Matrix for tuned Logistic regression model\")\n",
    "plt.show()"
   ]
  },
  {
   "attachments": {},
   "cell_type": "markdown",
   "metadata": {},
   "source": [
    "Using the tuned model we managed to sqeeze out a slightly better result with the emprovement being mostly in precision which increased from the original average of 0.74 to 0.77 in the parameter tuned model.    "
   ]
  },
  {
   "cell_type": "code",
   "execution_count": 766,
   "metadata": {},
   "outputs": [
    {
     "name": "stdout",
     "output_type": "stream",
     "text": [
      "              precision    recall  f1-score   support\n",
      "\n",
      "         0.0       0.86      0.98      0.92      1387\n",
      "         1.0       0.74      0.25      0.37       289\n",
      "\n",
      "    accuracy                           0.86      1676\n",
      "   macro avg       0.80      0.62      0.65      1676\n",
      "weighted avg       0.84      0.86      0.82      1676\n",
      "\n"
     ]
    },
    {
     "data": {
      "image/png": "[encoded data removed]",
      "text/plain": [
       "<Figure size 640x480 with 2 Axes>"
      ]
     },
     "metadata": {},
     "output_type": "display_data"
    }
   ],
   "source": [
    "# Confusion Matrix for Random Forest\n",
    "print(classification_report(y_test, forest_pred))\n",
    "cm = confusion_matrix(y_test, forest_pred)\n",
    "cm_display = metrics.ConfusionMatrixDisplay(confusion_matrix = cm, display_labels = [False, True])\n",
    "cm_display.plot()\n",
    "plt.title(\"Confusion Matrix for base Random forest model\")\n",
    "plt.show()"
   ]
  },
  {
   "attachments": {},
   "cell_type": "markdown",
   "metadata": {},
   "source": [
    "Our random forest model turned out to be even more prone to predicting False than our Logistic regression. That emproved precision but made recall even worse. "
   ]
  },
  {
   "cell_type": "code",
   "execution_count": 767,
   "metadata": {},
   "outputs": [
    {
     "name": "stdout",
     "output_type": "stream",
     "text": [
      "              precision    recall  f1-score   support\n",
      "\n",
      "         0.0       0.86      0.98      0.92      1387\n",
      "         1.0       0.73      0.26      0.38       289\n",
      "\n",
      "    accuracy                           0.86      1676\n",
      "   macro avg       0.80      0.62      0.65      1676\n",
      "weighted avg       0.84      0.86      0.83      1676\n",
      "\n"
     ]
    },
    {
     "data": {
      "image/png": "[encoded data removed]",
      "text/plain": [
       "<Figure size 640x480 with 2 Axes>"
      ]
     },
     "metadata": {},
     "output_type": "display_data"
    }
   ],
   "source": [
    "#Confusion Matrix for Random forest after metaparameter tuning\n",
    "print(classification_report(y_test, forest_cv_pred))\n",
    "cm_cv = confusion_matrix(y_test, forest_cv_pred)\n",
    "cm_display = metrics.ConfusionMatrixDisplay(confusion_matrix = cm_cv, display_labels = [False, True])\n",
    "cm_display.plot()\n",
    "plt.title(\"Confusion Matrix for tuned RF model\")\n",
    "plt.show()"
   ]
  },
  {
   "attachments": {},
   "cell_type": "markdown",
   "metadata": {},
   "source": [
    "The tuned model managed to only shift some values in the confusion matrix but didnt emprove significantly. Recall was a little better and since our target is so scewed in the dataset, we think that having higher recall is better."
   ]
  },
  {
   "attachments": {},
   "cell_type": "markdown",
   "metadata": {},
   "source": [
    "## Conclusion\n",
    "\n",
    "In conclusion, the best model in our opinion is the tuned Logistical Regression. It didn't achieve the same level of accuracy as the Random forest models but managed to get significantly higher levels of recall. Due to our dataset having more target values of \"False\" the models will be biased towards predicting it more. Our tuned Logistic regression is the more balanced model with F1 scores of 0.92 for False and 0.44 for True target values and It is the best model out the two, for this use case. "
   ]
  },
  {
   "attachments": {},
   "cell_type": "markdown",
   "metadata": {},
   "source": [
    "***\n",
    "# ARCHIVE CODE (to be delated later if not used)"
   ]
  },
  {
   "cell_type": "code",
   "execution_count": 759,
   "metadata": {},
   "outputs": [
    {
     "ename": "NameError",
     "evalue": "name 'X_val' is not defined",
     "output_type": "error",
     "traceback": [
      "\u001b[1;31m---------------------------------------------------------------------------\u001b[0m",
      "\u001b[1;31mNameError\u001b[0m                                 Traceback (most recent call last)",
      "Cell \u001b[1;32mIn[759], line 11\u001b[0m\n\u001b[0;32m      8\u001b[0m tree\u001b[39m.\u001b[39mscore(X_test, y_test)\n\u001b[0;32m     10\u001b[0m \u001b[39m# Get predictions\u001b[39;00m\n\u001b[1;32m---> 11\u001b[0m random_forest_prediction \u001b[39m=\u001b[39m grid_search\u001b[39m.\u001b[39mbest_estimator_\u001b[39m.\u001b[39mpredict(X_val)\n\u001b[0;32m     12\u001b[0m random_forest_prediction[:\u001b[39m10\u001b[39m]\n\u001b[0;32m     14\u001b[0m \u001b[39m# Get report of model\u001b[39;00m\n",
      "\u001b[1;31mNameError\u001b[0m: name 'X_val' is not defined"
     ]
    }
   ],
   "source": [
    "# Decision Tree classifier\n",
    "\n",
    "from sklearn.tree import DecisionTreeClassifier\n",
    "\n",
    "tree = DecisionTreeClassifier()\n",
    "tree.fit(X_train, y_train)\n",
    "tree_pred = tree.predict(X_test)\n",
    "tree.score(X_test, y_test)\n",
    "\n",
    "# Get predictions\n",
    "random_forest_prediction = grid_search.best_estimator_.predict(X_val)\n",
    "random_forest_prediction[:10]\n",
    "\n",
    "# Get report of model\n",
    "random_forest_report = classification_report(y_val, random_forest_prediction, output_dict=True)\n",
    "random_forest_report_df = pd.DataFrame(random_forest_report).transpose()\n",
    "random_forest_report_df\n",
    "\n",
    "# Get confusion matrix\n",
    "random_forest_confusion_matrix = confusion_matrix(y_val, random_forest_prediction)\n",
    "random_forest_confusion_matrix\n",
    "\n",
    "# Plot confusion matrix\n",
    "ConfusionMatrixDisplay.from_estimator(grid_search.best_estimator_, X, y, cmap=\"RdPu\")\n",
    "\n",
    "# Get feature importance\n",
    "feature_importance = pd.DataFrame(grid_search.best_estimator_.feature_importances_, index=X_train.columns, columns=['importance']).sort_values('importance', ascending=False)\n",
    "\n",
    "# Plot feature importance\n",
    "feature_importance.plot(kind='bar', figsize=(20, 10))\n",
    "plt.show()\n",
    "\n",
    "# Get ROC curve\n",
    "from sklearn.metrics import RocCurveDisplay\n",
    "\n",
    "# ROC curve\n",
    "ax = plt.gca()\n",
    "rfc_disp = RocCurveDisplay.from_estimator(forest_cv.best_estimator_, X=X_test, y=y_test, ax=ax)\n",
    "plt.show()"
   ]
  }
 ],
 "metadata": {
  "kernelspec": {
   "display_name": "Python 3 (ipykernel)",
   "language": "python",
   "name": "python3"
  },
  "language_info": {
   "codemirror_mode": {
    "name": "ipython",
    "version": 3
   },
   "file_extension": ".py",
   "mimetype": "text/x-python",
   "name": "python",
   "nbconvert_exporter": "python",
   "pygments_lexer": "ipython3",
   "version": "3.10.9"
  }
 },
 "nbformat": 4,
 "nbformat_minor": 2
}
