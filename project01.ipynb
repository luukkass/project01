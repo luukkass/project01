{
 "cells": [
  {
   "cell_type": "code",
   "execution_count": null,
   "metadata": {},
   "outputs": [],
   "source": [
    "#imports\n",
    "#randomstate"
   ]
  },
  {
   "attachments": {},
   "cell_type": "markdown",
   "metadata": {},
   "source": [
    "Requirements on preprocessing\n",
    "Any two of the following operations are mandatory:\n",
    "remove rows based on subsetting\n",
    "derive new columns\n",
    "use aggregation operators\n",
    "treat missing values"
   ]
  },
  {
   "cell_type": "code",
   "execution_count": null,
   "metadata": {},
   "outputs": [],
   "source": []
  },
  {
   "attachments": {},
   "cell_type": "markdown",
   "metadata": {},
   "source": [
    "Requirements on model building\n",
    "Use any classifier. Choose one of the following two options:\n",
    "\n",
    "perform train/test split\n",
    "use crossvalidation\n",
    "Also, evaluate and compare at least two algorithms of different types (e.g. logistic regression and random forest).\n",
    "\n",
    "Python: use any classifier from sklearn"
   ]
  },
  {
   "cell_type": "code",
   "execution_count": null,
   "metadata": {},
   "outputs": [],
   "source": []
  },
  {
   "attachments": {},
   "cell_type": "markdown",
   "metadata": {},
   "source": [
    "Requirements on metaparameter tuning\n",
    "If the chosen classifier has any metaparameters that can be tuned, use one of the following methods:\n",
    "\n",
    "try several configurations and describe the best result in the final report\n",
    "perform grid search or other similar automatic method\n",
    "once you have tuned metaparameters on a dedicated development (training) set, e.g. with GridSearchCV, you can retrain the model on the complete training data, as e.g. described here for Python: https://scikit-learn.org/stable/auto_examples/model_selection/plot_grid_search_digits.html and https://stackoverflow.com/questions/26962050/confused-with-repect-to-working-of-gridsearchcv\n",
    "Python recommendation: sklearn.model_selection.GridSearchCV"
   ]
  },
  {
   "cell_type": "code",
   "execution_count": null,
   "metadata": {},
   "outputs": [],
   "source": []
  },
  {
   "attachments": {},
   "cell_type": "markdown",
   "metadata": {},
   "source": [
    "Requirements on model evaluation\n",
    "report the accuracy on test set/crossvalidation\n",
    "if you are performing binary classification task, involve also the ROC curve\n",
    "make sure to use dedicated dataset for evaluation\n",
    "Python: use model_selection.cross_val_score, plot the roc curve using sklearn.metrics.roc_curve R: print model learned using the caret package, the roc curve can be plotted using the plotROC package."
   ]
  },
  {
   "cell_type": "code",
   "execution_count": null,
   "metadata": {},
   "outputs": [],
   "source": []
  }
 ],
 "metadata": {
  "language_info": {
   "name": "python"
  },
  "orig_nbformat": 4
 },
 "nbformat": 4,
 "nbformat_minor": 2
}
